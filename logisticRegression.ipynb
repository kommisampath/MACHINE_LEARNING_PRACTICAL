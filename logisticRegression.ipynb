{
  "nbformat": 4,
  "nbformat_minor": 0,
  "metadata": {
    "colab": {
      "provenance": []
    },
    "kernelspec": {
      "name": "python3",
      "display_name": "Python 3"
    },
    "language_info": {
      "name": "python"
    }
  },
  "cells": [
    {
      "cell_type": "markdown",
      "source": [
        "Let's build Logistic Regression from Scratch by implementing:\n",
        "✅ Sigmoid Function\n",
        "✅ Cost Function (Log Loss)\n",
        "✅ Gradient Descent Optimization\n",
        "✅ Model Training & Prediction\n",
        "\n",
        "We will use NumPy for numerical computations and Pandas for data handling. 🚀\n",
        "\n"
      ],
      "metadata": {
        "id": "T71F4hAjnMfd"
      }
    },
    {
      "cell_type": "markdown",
      "source": [
        "Step 1: Install Dependencies & Import Libraries\n"
      ],
      "metadata": {
        "id": "JgqCt3oulSGW"
      }
    },
    {
      "cell_type": "code",
      "source": [
        "import numpy as np\n",
        "import pandas as pd\n",
        "import matplotlib.pyplot as plt\n",
        "import seaborn as sns\n",
        "from sklearn.model_selection import train_test_split\n",
        "from sklearn.preprocessing import StandardScaler\n",
        "from sklearn.metrics import accuracy_score, classification_report, confusion_matrix\n"
      ],
      "metadata": {
        "id": "DGKd14_plLGr"
      },
      "execution_count": 32,
      "outputs": []
    },
    {
      "cell_type": "markdown",
      "source": [
        "** Step 2: Load dataset**"
      ],
      "metadata": {
        "id": "IseGU6Vbl888"
      }
    },
    {
      "cell_type": "code",
      "source": [
        "# Load dataset\n",
        "url = \"https://raw.githubusercontent.com/jbrownlee/Datasets/master/pima-indians-diabetes.data.csv\"\n",
        "columns = ['Pregnancies', 'Glucose', 'BloodPressure', 'SkinThickness',\n",
        "           'Insulin', 'BMI', 'DiabetesPedigreeFunction', 'Age', 'Outcome']\n",
        "\n",
        "df = pd.read_csv(url, names=columns)\n",
        "\n",
        "# Display first few rows\n",
        "print(df.head())\n"
      ],
      "metadata": {
        "colab": {
          "base_uri": "https://localhost:8080/"
        },
        "id": "zOmcv2IQnPOJ",
        "outputId": "3989fd96-7e97-4286-8592-9ab652ee0c39"
      },
      "execution_count": 33,
      "outputs": [
        {
          "output_type": "stream",
          "name": "stdout",
          "text": [
            "   Pregnancies  Glucose  BloodPressure  SkinThickness  ...   BMI  DiabetesPedigreeFunction  Age  Outcome\n",
            "0            6      148             72             35  ...  33.6                     0.627   50        1\n",
            "1            1       85             66             29  ...  26.6                     0.351   31        0\n",
            "2            8      183             64              0  ...  23.3                     0.672   32        1\n",
            "3            1       89             66             23  ...  28.1                     0.167   21        0\n",
            "4            0      137             40             35  ...  43.1                     2.288   33        1\n",
            "\n",
            "[5 rows x 9 columns]\n"
          ]
        }
      ]
    },
    {
      "cell_type": "markdown",
      "source": [
        "\n",
        "📌 Step 3: Preprocess Data\n"
      ],
      "metadata": {
        "id": "FzqkX-3pnYGg"
      }
    },
    {
      "cell_type": "code",
      "source": [
        "# Replace zero values with NaN for selected columns\n",
        "cols_to_replace = ['Glucose', 'BloodPressure', 'SkinThickness', 'Insulin', 'BMI']\n",
        "df[cols_to_replace] = df[cols_to_replace].replace(0, np.nan)\n"
      ],
      "metadata": {
        "id": "McbEo_3ynT1r"
      },
      "execution_count": 34,
      "outputs": []
    },
    {
      "cell_type": "code",
      "source": [
        "# Fill missing values with the mean\n",
        "df.fillna(df.mean(), inplace=True)\n",
        "\n"
      ],
      "metadata": {
        "id": "9zfUcf36nczb"
      },
      "execution_count": 35,
      "outputs": []
    },
    {
      "cell_type": "code",
      "source": [
        "# Split data into X (features) and y (target)\n",
        "X = df.drop(\"Outcome\", axis=1).values\n",
        "y = df[\"Outcome\"].values\n",
        "\n"
      ],
      "metadata": {
        "id": "wcX6Z1UgnemU"
      },
      "execution_count": 36,
      "outputs": []
    },
    {
      "cell_type": "code",
      "source": [
        "# Standardize features\n",
        "scaler = StandardScaler()\n",
        "X = scaler.fit_transform(X)\n"
      ],
      "metadata": {
        "id": "a6cLZ8xjngR7"
      },
      "execution_count": 37,
      "outputs": []
    },
    {
      "cell_type": "code",
      "source": [
        "\n",
        "# Split into training and testing sets\n",
        "X_train, X_test, y_train, y_test = train_test_split(X, y, test_size=0.2, random_state=42)\n"
      ],
      "metadata": {
        "id": "R-JV0QoFnh3O"
      },
      "execution_count": 38,
      "outputs": []
    },
    {
      "cell_type": "markdown",
      "source": [
        "📌 Step 4: Implement Logistic Regression from Scratch\n",
        "\n",
        "We will implement:\n",
        "✔ Sigmoid Function\n",
        "✔ Cost Function\n",
        "✔ Gradient Descent\n",
        "✔ Prediction Function"
      ],
      "metadata": {
        "id": "hd2DEFe0nmss"
      }
    },
    {
      "cell_type": "code",
      "source": [
        "#sigmoid function\n",
        "def sigmoid(z): # The function should take 'z' as input\n",
        "  return 1 / (1 + np.exp(-z)) # Use 'z' in the calculation, not 'x'"
      ],
      "metadata": {
        "id": "4XaI1zrunjFt"
      },
      "execution_count": 39,
      "outputs": []
    },
    {
      "cell_type": "code",
      "source": [
        "#Compute Cost Function (Log Loss)\n",
        "\n",
        "def compute_cost(X, y, w, b):\n",
        "  m = X.shape[0]\n",
        "  z = np.dot(X, w) + b\n",
        "  predictions = sigmoid(z)\n",
        "  loss = -np.mean(y * np.log(predictions) + (1 - y) * np.log(1 - predictions))\n",
        "  return loss"
      ],
      "metadata": {
        "id": "IVrhQY9Zn5cL"
      },
      "execution_count": 40,
      "outputs": []
    },
    {
      "cell_type": "code",
      "source": [
        "#Implement Gradient Descent\n",
        "def gradient_descent(X, y, w, b, alpha, epochs):\n",
        "    m = X.shape[0]  # Number of samples\n",
        "    cost_history = []  # Track cost function values over iterations\n",
        "\n",
        "    for i in range(epochs):\n",
        "        z = np.dot(X, w) + b  # Compute linear combination (z = Xw + b)\n",
        "        predictions = sigmoid(z)  # Apply sigmoid function to get probabilities\n",
        "\n",
        "        # Compute gradients (partial derivatives)\n",
        "        dw = (1 / m) * np.dot(X.T, (predictions - y))  # Gradient of weights\n",
        "        db = (1 / m) * np.sum(predictions - y)  # Gradient of bias\n",
        "\n",
        "        # Update parameters using gradients\n",
        "        w -= alpha * dw  # Update weights\n",
        "        b -= alpha * db  # Update bias\n",
        "\n",
        "        # Compute and store cost function value\n",
        "        cost = compute_cost(X, y, w, b)\n",
        "        cost_history.append(cost)\n",
        "\n",
        "        if i % 100 == 0:  # Print cost every 100 iterations\n",
        "            print(f'Epoch {i}: Cost = {cost:.4f}')\n",
        "\n",
        "    return w, b, cost_history  # Return optimized weights, bias, and cost history\n",
        "\n",
        ""
      ],
      "metadata": {
        "id": "QS5GmCCOojRs"
      },
      "execution_count": 41,
      "outputs": []
    },
    {
      "cell_type": "code",
      "source": [
        "# Initialize weights and bias\n",
        "w = np.zeros(X_train.shape[1])\n",
        "b = 0\n",
        "\n",
        "# Train the model using gradient descent\n",
        "alpha = 0.01  # Learning rate\n",
        "epochs = 1000  # Number of iterations\n",
        "w, b, cost_history = gradient_descent(X_train, y_train, w, b, alpha, epochs)\n"
      ],
      "metadata": {
        "colab": {
          "base_uri": "https://localhost:8080/"
        },
        "id": "_q8Pz9iNpl8b",
        "outputId": "0257d31a-5ada-4380-f617-67731f0d89c2"
      },
      "execution_count": 42,
      "outputs": [
        {
          "output_type": "stream",
          "name": "stdout",
          "text": [
            "Epoch 0: Cost = 0.6915\n",
            "Epoch 100: Cost = 0.5881\n",
            "Epoch 200: Cost = 0.5427\n",
            "Epoch 300: Cost = 0.5187\n",
            "Epoch 400: Cost = 0.5041\n",
            "Epoch 500: Cost = 0.4945\n",
            "Epoch 600: Cost = 0.4877\n",
            "Epoch 700: Cost = 0.4828\n",
            "Epoch 800: Cost = 0.4790\n",
            "Epoch 900: Cost = 0.4761\n"
          ]
        }
      ]
    },
    {
      "cell_type": "code",
      "source": [
        "plt.plot(range(epochs), cost_history, label=\"Cost\")\n",
        "plt.xlabel(\"Iterations\")\n",
        "plt.ylabel(\"Cost\")\n",
        "plt.title(\"Cost Function Over Time\")\n",
        "plt.legend()\n",
        "plt.show()\n"
      ],
      "metadata": {
        "colab": {
          "base_uri": "https://localhost:8080/",
          "height": 472
        },
        "id": "JQNWQA6Kpmrj",
        "outputId": "402a263e-ed65-48b3-8eda-aed147c48da8"
      },
      "execution_count": 43,
      "outputs": [
        {
          "output_type": "display_data",
          "data": {
            "text/plain": [
              "<Figure size 640x480 with 1 Axes>"
            ],
            "image/png": "[encoded data removed]"
          },
          "metadata": {}
        }
      ]
    },
    {
      "cell_type": "code",
      "source": [
        "def predict(X, w, b):\n",
        "    return (sigmoid(np.dot(X, w) + b) >= 0.5).astype(int)\n",
        "\n",
        "# Make predictions\n",
        "y_pred = predict(X_test, w, b)\n"
      ],
      "metadata": {
        "id": "f-OZ-A8lqBcl"
      },
      "execution_count": 44,
      "outputs": []
    },
    {
      "cell_type": "code",
      "source": [
        "# Accuracy Score\n",
        "accuracy = accuracy_score(y_test, y_pred)\n",
        "print(f'Accuracy: {accuracy:.2f}')\n",
        "\n",
        "# Classification Report\n",
        "print(classification_report(y_test, y_pred))\n",
        "\n",
        "# Confusion Matrix\n",
        "conf_matrix = confusion_matrix(y_test, y_pred)\n",
        "sns.heatmap(conf_matrix, annot=True, fmt='d', cmap='Blues')\n",
        "plt.xlabel(\"Predicted Label\")\n",
        "plt.ylabel(\"True Label\")\n",
        "plt.title(\"Confusion Matrix\")\n",
        "plt.show()\n"
      ],
      "metadata": {
        "colab": {
          "base_uri": "https://localhost:8080/",
          "height": 646
        },
        "id": "GRWr7D7vqEjJ",
        "outputId": "49c1679f-93ef-4354-f4e6-6cb304e534bb"
      },
      "execution_count": 45,
      "outputs": [
        {
          "output_type": "stream",
          "name": "stdout",
          "text": [
            "Accuracy: 0.74\n",
            "              precision    recall  f1-score   support\n",
            "\n",
            "           0       0.80      0.80      0.80        99\n",
            "           1       0.64      0.64      0.64        55\n",
            "\n",
            "    accuracy                           0.74       154\n",
            "   macro avg       0.72      0.72      0.72       154\n",
            "weighted avg       0.74      0.74      0.74       154\n",
            "\n"
          ]
        },
        {
          "output_type": "display_data",
          "data": {
            "text/plain": [
              "<Figure size 640x480 with 2 Axes>"
            ],
            "image/png": "[encoded data removed]"
          },
          "metadata": {}
        }
      ]
    },
    {
      "cell_type": "code",
      "source": [],
      "metadata": {
        "id": "EXD6iAsyqHvl"
      },
      "execution_count": 45,
      "outputs": []
    }
  ]
}